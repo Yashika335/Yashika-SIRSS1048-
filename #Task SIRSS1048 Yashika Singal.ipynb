{
  "nbformat": 4,
  "nbformat_minor": 0,
  "metadata": {
    "colab": {
      "name": "Untitled16.ipynb",
      "provenance": []
    },
    "kernelspec": {
      "name": "python3",
      "display_name": "Python 3"
    },
    "language_info": {
      "name": "python"
    }
  },
  "cells": [
    {
      "cell_type": "code",
      "metadata": {
        "colab": {
          "base_uri": "https://localhost:8080/"
        },
        "id": "ZFjXUz3z0mBE",
        "outputId": "0b20864c-983a-4976-c446-cf297f6a2afe"
      },
      "source": [
        "# Question1\n",
        "for i in range(5,0,-1):\n",
        "  for j in range(i):\n",
        "    print(\"5\", end=\" \")\n",
        "  print(\"\")"
      ],
      "execution_count": 9,
      "outputs": [
        {
          "output_type": "stream",
          "text": [
            "5 5 5 5 5 \n",
            "5 5 5 5 \n",
            "5 5 5 \n",
            "5 5 \n",
            "5 \n"
          ],
          "name": "stdout"
        }
      ]
    },
    {
      "cell_type": "code",
      "metadata": {
        "colab": {
          "base_uri": "https://localhost:8080/"
        },
        "id": "fI3kmuzY0yuR",
        "outputId": "8549212f-61d9-48fa-9a5b-906d21bc1841"
      },
      "source": [
        "# Question 2\n",
        "for i in range(5,0,-1):\n",
        "  for j in range(i+1):\n",
        "    print(j, end=\" \")\n",
        "  print(\"\")"
      ],
      "execution_count": 12,
      "outputs": [
        {
          "output_type": "stream",
          "text": [
            "0 1 2 3 4 5 \n",
            "0 1 2 3 4 \n",
            "0 1 2 3 \n",
            "0 1 2 \n",
            "0 1 \n"
          ],
          "name": "stdout"
        }
      ]
    },
    {
      "cell_type": "code",
      "metadata": {
        "colab": {
          "base_uri": "https://localhost:8080/"
        },
        "id": "jrX8APr42Ejd",
        "outputId": "8e79cc71-3d4d-46f5-b4da-1437db58fa1c"
      },
      "source": [
        "# Question 3\n",
        "for i in range(1,6):\n",
        "  for j in range(1,i+1):\n",
        "    print(2*i-1,end=\" \")\n",
        "  print(\" \")"
      ],
      "execution_count": 19,
      "outputs": [
        {
          "output_type": "stream",
          "text": [
            "1  \n",
            "3 3  \n",
            "5 5 5  \n",
            "7 7 7 7  \n",
            "9 9 9 9 9  \n"
          ],
          "name": "stdout"
        }
      ]
    },
    {
      "cell_type": "code",
      "metadata": {
        "colab": {
          "base_uri": "https://localhost:8080/"
        },
        "id": "xoKemoe82KWX",
        "outputId": "d3b82418-3075-429d-94c3-2a5d66c3e31b"
      },
      "source": [
        "# Question 4\n",
        "for i in range(0,5):\n",
        "  for j in range (i+1,0,-1):\n",
        "    print(j,end=\" \")\n",
        "  print(\"\")"
      ],
      "execution_count": 27,
      "outputs": [
        {
          "output_type": "stream",
          "text": [
            "1 \n",
            "2 1 \n",
            "3 2 1 \n",
            "4 3 2 1 \n",
            "5 4 3 2 1 \n"
          ],
          "name": "stdout"
        }
      ]
    },
    {
      "cell_type": "code",
      "metadata": {
        "colab": {
          "base_uri": "https://localhost:8080/"
        },
        "id": "9I91Ga9W3Jr8",
        "outputId": "62f37e98-4c31-460f-d5aa-a31ba42b5106"
      },
      "source": [
        "# Question 5\n",
        "for i in range(0,5):\n",
        "  for j in range(i+1,0,-1):\n",
        "    print(i,end=\" \")\n",
        "  print(' ')"
      ],
      "execution_count": 34,
      "outputs": [
        {
          "output_type": "stream",
          "text": [
            "0  \n",
            "1 1  \n",
            "2 2 2  \n",
            "3 3 3 3  \n",
            "4 4 4 4 4  \n"
          ],
          "name": "stdout"
        }
      ]
    },
    {
      "cell_type": "code",
      "metadata": {
        "colab": {
          "base_uri": "https://localhost:8080/"
        },
        "id": "XHAUI3bc4ZBW",
        "outputId": "07d739e6-7982-47c1-f123-972c74383319"
      },
      "source": [
        "# Question 6\n",
        "for i in range(1,8):\n",
        "  k=1\n",
        "  for j in range(1,i+1):\n",
        "    print(k,end=\" \")\n",
        "    k=int(k*(i-j)/j)\n",
        "  print(\" \")"
      ],
      "execution_count": 113,
      "outputs": [
        {
          "output_type": "stream",
          "text": [
            "1  \n",
            "1 1  \n",
            "1 2 1  \n",
            "1 3 3 1  \n",
            "1 4 6 4 1  \n",
            "1 5 10 10 5 1  \n",
            "1 6 15 20 15 6 1  \n"
          ],
          "name": "stdout"
        }
      ]
    },
    {
      "cell_type": "code",
      "metadata": {
        "colab": {
          "base_uri": "https://localhost:8080/"
        },
        "id": "vRVVWzmm3pWD",
        "outputId": "5b9b9523-5ada-42a6-fe2c-0d7b8b5a89e7"
      },
      "source": [
        "# Question 8\n",
        "for i in range(1, 9):  \n",
        "    for j in range(1, i + 1):  \n",
        "        # It prints multiplication or row and column  \n",
        "        print(i * j, end='  ')  \n",
        "    print()  "
      ],
      "execution_count": 110,
      "outputs": [
        {
          "output_type": "stream",
          "text": [
            "1  \n",
            "2  4  \n",
            "3  6  9  \n",
            "4  8  12  16  \n",
            "5  10  15  20  25  \n",
            "6  12  18  24  30  36  \n",
            "7  14  21  28  35  42  49  \n",
            "8  16  24  32  40  48  56  64  \n"
          ],
          "name": "stdout"
        }
      ]
    },
    {
      "cell_type": "code",
      "metadata": {
        "colab": {
          "base_uri": "https://localhost:8080/"
        },
        "id": "2HMaZsOJ6zwn",
        "outputId": "30b29798-c865-469e-f390-7fb10e53103f"
      },
      "source": [
        "# Question 9\n",
        "k=(2*6)-2\n",
        "for i in range(6,-1,-1):\n",
        "  for j in range(k,0,-1):\n",
        "    print(end=\" \")\n",
        "  k=k+1\n",
        "  for h in range(0,i+1):\n",
        "    print(\"*\", end=\" \")\n",
        "  print(\"\")"
      ],
      "execution_count": 80,
      "outputs": [
        {
          "output_type": "stream",
          "text": [
            "          * * * * * * * \n",
            "           * * * * * * \n",
            "            * * * * * \n",
            "             * * * * \n",
            "              * * * \n",
            "               * * \n",
            "                * \n"
          ],
          "name": "stdout"
        }
      ]
    },
    {
      "cell_type": "code",
      "metadata": {
        "colab": {
          "base_uri": "https://localhost:8080/"
        },
        "id": "ydZSHeUk-wrR",
        "outputId": "eb88e898-6557-459e-b42c-3d6696ebaf31"
      },
      "source": [
        "# Question 10\n",
        "k=(2*6)-2\n",
        "for i in range(0,7):\n",
        "  for j in range(0,k):\n",
        "    print(end=\" \")\n",
        "  k=k-1\n",
        "  for h in range(0,i+1):\n",
        "    print(\"*\", end=\" \")\n",
        "  print(\"\")"
      ],
      "execution_count": 79,
      "outputs": [
        {
          "output_type": "stream",
          "text": [
            "          * \n",
            "         * * \n",
            "        * * * \n",
            "       * * * * \n",
            "      * * * * * \n",
            "     * * * * * * \n",
            "    * * * * * * * \n"
          ],
          "name": "stdout"
        }
      ]
    },
    {
      "cell_type": "code",
      "metadata": {
        "colab": {
          "base_uri": "https://localhost:8080/"
        },
        "id": "9uEm2FJH9XgY",
        "outputId": "b345f0a7-cd2e-4051-fbf1-2fa90a5ac623"
      },
      "source": [
        "# Question 11\n",
        "for i in range(0,7):\n",
        "  for j in range(0,i+1):\n",
        "    print(\"*\",end=\" \")\n",
        "  print(\"\")\n",
        "print(end=\"\\n\")\n",
        "for i in range(7,-1,-1):\n",
        "  for j in range(i+1,0,-1):\n",
        "    print(\"*\",end=\" \")\n",
        "  print(\"\")"
      ],
      "execution_count": 84,
      "outputs": [
        {
          "output_type": "stream",
          "text": [
            "* \n",
            "* * \n",
            "* * * \n",
            "* * * * \n",
            "* * * * * \n",
            "* * * * * * \n",
            "* * * * * * * \n",
            "\n",
            "* * * * * * * * \n",
            "* * * * * * * \n",
            "* * * * * * \n",
            "* * * * * \n",
            "* * * * \n",
            "* * * \n",
            "* * \n",
            "* \n"
          ],
          "name": "stdout"
        }
      ]
    },
    {
      "cell_type": "code",
      "metadata": {
        "id": "uf8Ov9nt_te0",
        "colab": {
          "base_uri": "https://localhost:8080/"
        },
        "outputId": "faf04071-8db2-4f42-b3f5-e8d9920370f8"
      },
      "source": [
        "# Question 12\n",
        "for i in range(0,4):\n",
        "  for j in range(0,i+1):\n",
        "    print(\"*\",end=\" \")\n",
        "  print('')\n",
        "for i in range(4,-1,-1):\n",
        "  for j in range(i+1,0,-1):\n",
        "    print(\"*\",end=\" \")\n",
        "  print(\"\")\n",
        "  "
      ],
      "execution_count": 102,
      "outputs": [
        {
          "output_type": "stream",
          "text": [
            "* \n",
            "* * \n",
            "* * * \n",
            "* * * * \n",
            "* * * * * \n",
            "* * * * \n",
            "* * * \n",
            "* * \n",
            "* \n"
          ],
          "name": "stdout"
        }
      ]
    },
    {
      "cell_type": "code",
      "metadata": {
        "colab": {
          "base_uri": "https://localhost:8080/"
        },
        "id": "yszBAtlxCrdZ",
        "outputId": "5f6ee46d-4c4d-4494-f5a4-f167eaf711bd"
      },
      "source": [
        "# Question 14\n",
        "k =6-2\n",
        "for i in range(6,-1,-1):\n",
        "  for j in range(k,0,-1):\n",
        "    print(end=\" \")\n",
        "  k=k+1\n",
        "  for j in range(0,i+1):\n",
        "    print(\"*\",end=\" \")\n",
        "  print()\n",
        "\n",
        "k=(2*6)-2\n",
        "for i in range(0,7):\n",
        "  for j in range(0,k):\n",
        "    print(end=\" \")\n",
        "  k=k-1\n",
        "  for j in range(0,i+1):\n",
        "    print(\"*\",end=\" \")\n",
        "  print()"
      ],
      "execution_count": 108,
      "outputs": [
        {
          "output_type": "stream",
          "text": [
            "    * * * * * * * \n",
            "     * * * * * * \n",
            "      * * * * * \n",
            "       * * * * \n",
            "        * * * \n",
            "         * * \n",
            "          * \n",
            "          * \n",
            "         * * \n",
            "        * * * \n",
            "       * * * * \n",
            "      * * * * * \n",
            "     * * * * * * \n",
            "    * * * * * * * \n"
          ],
          "name": "stdout"
        }
      ]
    },
    {
      "cell_type": "code",
      "metadata": {
        "colab": {
          "base_uri": "https://localhost:8080/"
        },
        "id": "O-wRIy3nDN0X",
        "outputId": "56e9affc-b16c-4159-cb77-27e091c94dc2"
      },
      "source": [
        "# Question 13\n",
        "k= 2*5 -2\n",
        "for i in range(0,5):\n",
        "  for j in range(0,k):\n",
        "    print(end=\" \")\n",
        "  k=k-2\n",
        "  for j in range(0,i+1):\n",
        "    print(\"* \",end=\"\")\n",
        "  print()\n",
        "for i in range(5,0,-1):\n",
        "  for j in range(i,6):\n",
        "    print(\" \",end=\" \")\n",
        "  for k in range(1,i):\n",
        "    print(\"*\",end=\" \")\n",
        "  print()"
      ],
      "execution_count": 137,
      "outputs": [
        {
          "output_type": "stream",
          "text": [
            "        * \n",
            "      * * \n",
            "    * * * \n",
            "  * * * * \n",
            "* * * * * \n",
            "  * * * * \n",
            "    * * * \n",
            "      * * \n",
            "        * \n",
            "          \n"
          ],
          "name": "stdout"
        }
      ]
    },
    {
      "cell_type": "code",
      "metadata": {
        "colab": {
          "base_uri": "https://localhost:8080/"
        },
        "id": "c3UWGFyMONVJ",
        "outputId": "7435940c-5ae1-40fb-f82c-7fd289721653"
      },
      "source": [
        "# Question 15\n",
        "rows=int(input(\"Enter the number of rows: \"))\n",
        "print(\"*\" * rows, end=\"\\n\")\n",
        "i=(rows//2)-1\n",
        "j= 2\n",
        "while i!=0:\n",
        "  while j<=(rows-2):\n",
        "    print(\"*\" * i,end=\"\")\n",
        "    print(\"_\" * j,end=\"\")\n",
        "    print(\"*\" * i,end=\"\\n\")\n",
        "    i=i-1\n",
        "    j=j+2"
      ],
      "execution_count": 139,
      "outputs": [
        {
          "output_type": "stream",
          "text": [
            "Enter the number of rows: 16\n",
            "****************\n",
            "*******__*******\n",
            "******____******\n",
            "*****______*****\n",
            "****________****\n",
            "***__________***\n",
            "**____________**\n",
            "*______________*\n"
          ],
          "name": "stdout"
        }
      ]
    },
    {
      "cell_type": "code",
      "metadata": {
        "id": "9gVQ41zCPamq"
      },
      "source": [
        ""
      ],
      "execution_count": null,
      "outputs": []
    }
  ]
}